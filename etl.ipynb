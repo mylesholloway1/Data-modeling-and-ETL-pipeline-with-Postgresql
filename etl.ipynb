{
 "cells": [
  {
   "cell_type": "markdown",
   "metadata": {
    "editable": true
   },
   "source": [
    "# ETL Processes\n",
    "Use this notebook to develop the ETL process for each of your tables before completing the `etl.py` file to load the whole datasets."
   ]
  },
  {
   "cell_type": "code",
   "execution_count": 1,
   "metadata": {
    "editable": true
   },
   "outputs": [],
   "source": [
    "import os\n",
    "import glob\n",
    "import json\n",
    "import datetime\n",
    "import psycopg2\n",
    "import pandas as pd\n",
    "from sql_queries import *"
   ]
  },
  {
   "cell_type": "code",
   "execution_count": 2,
   "metadata": {
    "editable": true
   },
   "outputs": [],
   "source": [
    "conn = psycopg2.connect(\"host=127.0.0.1 dbname=sparkifydb user=student password=student\")\n",
    "cur = conn.cursor()"
   ]
  },
  {
   "cell_type": "code",
   "execution_count": 3,
   "metadata": {
    "editable": true
   },
   "outputs": [],
   "source": [
    "def get_files(filepath):\n",
    "    all_files = []\n",
    "    for root, dirs, files in os.walk(filepath):\n",
    "        files = glob.glob(os.path.join(root,'*.json'))\n",
    "        for f in files :\n",
    "            all_files.append(os.path.abspath(f))\n",
    "    \n",
    "    return all_files"
   ]
  },
  {
   "cell_type": "markdown",
   "metadata": {
    "editable": true
   },
   "source": [
    "# Process `song_data`\n",
    "In this first part, you'll perform ETL on the first dataset, `song_data`, to create the `songs` and `artists` dimensional tables.\n",
    "\n",
    "Let's perform ETL on a single song file and load a single record into each table to start.\n",
    "- Use the `get_files` function provided above to get a list of all song JSON files in `data/song_data`\n",
    "- Select the first song in this list\n",
    "- Read the song file and view the data"
   ]
  },
  {
   "cell_type": "code",
   "execution_count": 4,
   "metadata": {
    "editable": true
   },
   "outputs": [],
   "source": [
    "song_files = get_files(\"data/song_data\")"
   ]
  },
  {
   "cell_type": "code",
   "execution_count": 5,
   "metadata": {
    "editable": true
   },
   "outputs": [],
   "source": [
    "filepath = song_files[0]"
   ]
  },
  {
   "cell_type": "code",
   "execution_count": 6,
   "metadata": {
    "editable": true
   },
   "outputs": [
    {
     "data": {
      "text/html": [
       "<div>\n",
       "<style scoped>\n",
       "    .dataframe tbody tr th:only-of-type {\n",
       "        vertical-align: middle;\n",
       "    }\n",
       "\n",
       "    .dataframe tbody tr th {\n",
       "        vertical-align: top;\n",
       "    }\n",
       "\n",
       "    .dataframe thead th {\n",
       "        text-align: right;\n",
       "    }\n",
       "</style>\n",
       "<table border=\"1\" class=\"dataframe\">\n",
       "  <thead>\n",
       "    <tr style=\"text-align: right;\">\n",
       "      <th></th>\n",
       "      <th>artist_id</th>\n",
       "      <th>artist_latitude</th>\n",
       "      <th>artist_location</th>\n",
       "      <th>artist_longitude</th>\n",
       "      <th>artist_name</th>\n",
       "      <th>duration</th>\n",
       "      <th>num_songs</th>\n",
       "      <th>song_id</th>\n",
       "      <th>title</th>\n",
       "      <th>year</th>\n",
       "    </tr>\n",
       "  </thead>\n",
       "  <tbody>\n",
       "    <tr>\n",
       "      <th>0</th>\n",
       "      <td>AR8IEZO1187B99055E</td>\n",
       "      <td>NaN</td>\n",
       "      <td></td>\n",
       "      <td>NaN</td>\n",
       "      <td>Marc Shaiman</td>\n",
       "      <td>149.86404</td>\n",
       "      <td>1</td>\n",
       "      <td>SOINLJW12A8C13314C</td>\n",
       "      <td>City Slickers</td>\n",
       "      <td>2008</td>\n",
       "    </tr>\n",
       "  </tbody>\n",
       "</table>\n",
       "</div>"
      ],
      "text/plain": [
       "            artist_id  artist_latitude artist_location  artist_longitude  \\\n",
       "0  AR8IEZO1187B99055E              NaN                               NaN   \n",
       "\n",
       "    artist_name   duration  num_songs             song_id          title  year  \n",
       "0  Marc Shaiman  149.86404          1  SOINLJW12A8C13314C  City Slickers  2008  "
      ]
     },
     "execution_count": 6,
     "metadata": {},
     "output_type": "execute_result"
    }
   ],
   "source": [
    "df = pd.DataFrame(pd.read_json(filepath, lines=True))\n",
    "df.head()"
   ]
  },
  {
   "cell_type": "markdown",
   "metadata": {
    "editable": true
   },
   "source": [
    "## #1: `songs` Table\n",
    "#### Extract Data for Songs Table\n",
    "- Select columns for song ID, title, artist ID, year, and duration\n",
    "- Use `df.values` to select just the values from the dataframe\n",
    "- Index to select the first (only) record in the dataframe\n",
    "- Convert the array to a list and set it to `song_data`"
   ]
  },
  {
   "cell_type": "code",
   "execution_count": 7,
   "metadata": {
    "editable": true
   },
   "outputs": [
    {
     "name": "stdout",
     "output_type": "stream",
     "text": [
      "['SOINLJW12A8C13314C', 'City Slickers', 'AR8IEZO1187B99055E', 2008, 149.86404]\n"
     ]
    }
   ],
   "source": [
    "song_data = df[['song_id', 'title','artist_id', 'year', 'duration']].values[0].tolist()\n",
    "print(song_data)"
   ]
  },
  {
   "cell_type": "markdown",
   "metadata": {
    "editable": true
   },
   "source": [
    "#### Insert Record into Song Table\n",
    "Implement the `song_table_insert` query in `sql_queries.py` and run the cell below to insert a record for this song into the `songs` table. Remember to run `create_tables.py` before running the cell below to ensure you've created/resetted the `songs` table in the sparkify database."
   ]
  },
  {
   "cell_type": "code",
   "execution_count": 8,
   "metadata": {
    "editable": true
   },
   "outputs": [],
   "source": [
    "cur.execute(song_table_insert, song_data)\n",
    "conn.commit()"
   ]
  },
  {
   "cell_type": "markdown",
   "metadata": {
    "editable": true
   },
   "source": [
    "Run `test.ipynb` to see if you've successfully added a record to this table."
   ]
  },
  {
   "cell_type": "markdown",
   "metadata": {
    "editable": true
   },
   "source": [
    "## #2: `artists` Table\n",
    "#### Extract Data for Artists Table\n",
    "- Select columns for artist ID, name, location, latitude, and longitude\n",
    "- Use `df.values` to select just the values from the dataframe\n",
    "- Index to select the first (only) record in the dataframe\n",
    "- Convert the array to a list and set it to `artist_data`"
   ]
  },
  {
   "cell_type": "code",
   "execution_count": 9,
   "metadata": {
    "editable": true
   },
   "outputs": [
    {
     "name": "stdout",
     "output_type": "stream",
     "text": [
      "['AR8IEZO1187B99055E', 'Marc Shaiman', '', nan, nan]\n"
     ]
    }
   ],
   "source": [
    "artist_data = df[['artist_id', 'artist_name','artist_location', 'artist_latitude', 'artist_longitude']].values[0].tolist()\n",
    "print(artist_data)"
   ]
  },
  {
   "cell_type": "markdown",
   "metadata": {
    "editable": true
   },
   "source": [
    "#### Insert Record into Artist Table\n",
    "Implement the `artist_table_insert` query in `sql_queries.py` and run the cell below to insert a record for this song's artist into the `artists` table. Remember to run `create_tables.py` before running the cell below to ensure you've created/resetted the `artists` table in the sparkify database."
   ]
  },
  {
   "cell_type": "code",
   "execution_count": 10,
   "metadata": {
    "editable": true
   },
   "outputs": [],
   "source": [
    "cur.execute(artist_table_insert, artist_data)\n",
    "conn.commit()"
   ]
  },
  {
   "cell_type": "markdown",
   "metadata": {
    "editable": true
   },
   "source": [
    "Run `test.ipynb` to see if you've successfully added a record to this table."
   ]
  },
  {
   "cell_type": "markdown",
   "metadata": {
    "editable": true
   },
   "source": [
    "# Process `log_data`\n",
    "In this part, you'll perform ETL on the second dataset, `log_data`, to create the `time` and `users` dimensional tables, as well as the `songplays` fact table.\n",
    "\n",
    "Let's perform ETL on a single log file and load a single record into each table.\n",
    "- Use the `get_files` function provided above to get a list of all log JSON files in `data/log_data`\n",
    "- Select the first log file in this list\n",
    "- Read the log file and view the data"
   ]
  },
  {
   "cell_type": "code",
   "execution_count": 11,
   "metadata": {
    "editable": true
   },
   "outputs": [],
   "source": [
    "log_files = get_files(\"data/log_data\")"
   ]
  },
  {
   "cell_type": "code",
   "execution_count": 12,
   "metadata": {
    "editable": true
   },
   "outputs": [],
   "source": [
    "filepath = log_files[0]"
   ]
  },
  {
   "cell_type": "code",
   "execution_count": 13,
   "metadata": {
    "editable": true
   },
   "outputs": [
    {
     "data": {
      "text/html": [
       "<div>\n",
       "<style scoped>\n",
       "    .dataframe tbody tr th:only-of-type {\n",
       "        vertical-align: middle;\n",
       "    }\n",
       "\n",
       "    .dataframe tbody tr th {\n",
       "        vertical-align: top;\n",
       "    }\n",
       "\n",
       "    .dataframe thead th {\n",
       "        text-align: right;\n",
       "    }\n",
       "</style>\n",
       "<table border=\"1\" class=\"dataframe\">\n",
       "  <thead>\n",
       "    <tr style=\"text-align: right;\">\n",
       "      <th></th>\n",
       "      <th>artist</th>\n",
       "      <th>auth</th>\n",
       "      <th>firstName</th>\n",
       "      <th>gender</th>\n",
       "      <th>itemInSession</th>\n",
       "      <th>lastName</th>\n",
       "      <th>length</th>\n",
       "      <th>level</th>\n",
       "      <th>location</th>\n",
       "      <th>method</th>\n",
       "      <th>page</th>\n",
       "      <th>registration</th>\n",
       "      <th>sessionId</th>\n",
       "      <th>song</th>\n",
       "      <th>status</th>\n",
       "      <th>ts</th>\n",
       "      <th>userAgent</th>\n",
       "      <th>userId</th>\n",
       "    </tr>\n",
       "  </thead>\n",
       "  <tbody>\n",
       "    <tr>\n",
       "      <th>0</th>\n",
       "      <td>Sydney Youngblood</td>\n",
       "      <td>Logged In</td>\n",
       "      <td>Jacob</td>\n",
       "      <td>M</td>\n",
       "      <td>53</td>\n",
       "      <td>Klein</td>\n",
       "      <td>238.07955</td>\n",
       "      <td>paid</td>\n",
       "      <td>Tampa-St. Petersburg-Clearwater, FL</td>\n",
       "      <td>PUT</td>\n",
       "      <td>NextSong</td>\n",
       "      <td>1.540558e+12</td>\n",
       "      <td>954</td>\n",
       "      <td>Ain't No Sunshine</td>\n",
       "      <td>200</td>\n",
       "      <td>1543449657796</td>\n",
       "      <td>\"Mozilla/5.0 (Macintosh; Intel Mac OS X 10_9_4...</td>\n",
       "      <td>73</td>\n",
       "    </tr>\n",
       "    <tr>\n",
       "      <th>1</th>\n",
       "      <td>Gang Starr</td>\n",
       "      <td>Logged In</td>\n",
       "      <td>Layla</td>\n",
       "      <td>F</td>\n",
       "      <td>88</td>\n",
       "      <td>Griffin</td>\n",
       "      <td>151.92771</td>\n",
       "      <td>paid</td>\n",
       "      <td>Lake Havasu City-Kingman, AZ</td>\n",
       "      <td>PUT</td>\n",
       "      <td>NextSong</td>\n",
       "      <td>1.541057e+12</td>\n",
       "      <td>984</td>\n",
       "      <td>My Advice 2 You (Explicit)</td>\n",
       "      <td>200</td>\n",
       "      <td>1543449690796</td>\n",
       "      <td>\"Mozilla/5.0 (Windows NT 6.1; WOW64) AppleWebK...</td>\n",
       "      <td>24</td>\n",
       "    </tr>\n",
       "    <tr>\n",
       "      <th>2</th>\n",
       "      <td>3OH!3</td>\n",
       "      <td>Logged In</td>\n",
       "      <td>Layla</td>\n",
       "      <td>F</td>\n",
       "      <td>89</td>\n",
       "      <td>Griffin</td>\n",
       "      <td>192.52200</td>\n",
       "      <td>paid</td>\n",
       "      <td>Lake Havasu City-Kingman, AZ</td>\n",
       "      <td>PUT</td>\n",
       "      <td>NextSong</td>\n",
       "      <td>1.541057e+12</td>\n",
       "      <td>984</td>\n",
       "      <td>My First Kiss (Feat. Ke$ha) [Album Version]</td>\n",
       "      <td>200</td>\n",
       "      <td>1543449841796</td>\n",
       "      <td>\"Mozilla/5.0 (Windows NT 6.1; WOW64) AppleWebK...</td>\n",
       "      <td>24</td>\n",
       "    </tr>\n",
       "    <tr>\n",
       "      <th>3</th>\n",
       "      <td>RÃÂ¶yksopp</td>\n",
       "      <td>Logged In</td>\n",
       "      <td>Jacob</td>\n",
       "      <td>M</td>\n",
       "      <td>54</td>\n",
       "      <td>Klein</td>\n",
       "      <td>369.81506</td>\n",
       "      <td>paid</td>\n",
       "      <td>Tampa-St. Petersburg-Clearwater, FL</td>\n",
       "      <td>PUT</td>\n",
       "      <td>NextSong</td>\n",
       "      <td>1.540558e+12</td>\n",
       "      <td>954</td>\n",
       "      <td>The Girl and The Robot</td>\n",
       "      <td>200</td>\n",
       "      <td>1543449895796</td>\n",
       "      <td>\"Mozilla/5.0 (Macintosh; Intel Mac OS X 10_9_4...</td>\n",
       "      <td>73</td>\n",
       "    </tr>\n",
       "    <tr>\n",
       "      <th>4</th>\n",
       "      <td>Kajagoogoo</td>\n",
       "      <td>Logged In</td>\n",
       "      <td>Layla</td>\n",
       "      <td>F</td>\n",
       "      <td>90</td>\n",
       "      <td>Griffin</td>\n",
       "      <td>223.55546</td>\n",
       "      <td>paid</td>\n",
       "      <td>Lake Havasu City-Kingman, AZ</td>\n",
       "      <td>PUT</td>\n",
       "      <td>NextSong</td>\n",
       "      <td>1.541057e+12</td>\n",
       "      <td>984</td>\n",
       "      <td>Too Shy</td>\n",
       "      <td>200</td>\n",
       "      <td>1543450033796</td>\n",
       "      <td>\"Mozilla/5.0 (Windows NT 6.1; WOW64) AppleWebK...</td>\n",
       "      <td>24</td>\n",
       "    </tr>\n",
       "  </tbody>\n",
       "</table>\n",
       "</div>"
      ],
      "text/plain": [
       "              artist       auth firstName gender  itemInSession lastName  \\\n",
       "0  Sydney Youngblood  Logged In     Jacob      M             53    Klein   \n",
       "1         Gang Starr  Logged In     Layla      F             88  Griffin   \n",
       "2              3OH!3  Logged In     Layla      F             89  Griffin   \n",
       "3        RÃÂ¶yksopp  Logged In     Jacob      M             54    Klein   \n",
       "4         Kajagoogoo  Logged In     Layla      F             90  Griffin   \n",
       "\n",
       "      length level                             location method      page  \\\n",
       "0  238.07955  paid  Tampa-St. Petersburg-Clearwater, FL    PUT  NextSong   \n",
       "1  151.92771  paid         Lake Havasu City-Kingman, AZ    PUT  NextSong   \n",
       "2  192.52200  paid         Lake Havasu City-Kingman, AZ    PUT  NextSong   \n",
       "3  369.81506  paid  Tampa-St. Petersburg-Clearwater, FL    PUT  NextSong   \n",
       "4  223.55546  paid         Lake Havasu City-Kingman, AZ    PUT  NextSong   \n",
       "\n",
       "   registration  sessionId                                         song  \\\n",
       "0  1.540558e+12        954                            Ain't No Sunshine   \n",
       "1  1.541057e+12        984                   My Advice 2 You (Explicit)   \n",
       "2  1.541057e+12        984  My First Kiss (Feat. Ke$ha) [Album Version]   \n",
       "3  1.540558e+12        954                       The Girl and The Robot   \n",
       "4  1.541057e+12        984                                      Too Shy   \n",
       "\n",
       "   status             ts                                          userAgent  \\\n",
       "0     200  1543449657796  \"Mozilla/5.0 (Macintosh; Intel Mac OS X 10_9_4...   \n",
       "1     200  1543449690796  \"Mozilla/5.0 (Windows NT 6.1; WOW64) AppleWebK...   \n",
       "2     200  1543449841796  \"Mozilla/5.0 (Windows NT 6.1; WOW64) AppleWebK...   \n",
       "3     200  1543449895796  \"Mozilla/5.0 (Macintosh; Intel Mac OS X 10_9_4...   \n",
       "4     200  1543450033796  \"Mozilla/5.0 (Windows NT 6.1; WOW64) AppleWebK...   \n",
       "\n",
       "  userId  \n",
       "0     73  \n",
       "1     24  \n",
       "2     24  \n",
       "3     73  \n",
       "4     24  "
      ]
     },
     "execution_count": 13,
     "metadata": {},
     "output_type": "execute_result"
    }
   ],
   "source": [
    "df = pd.DataFrame(pd.read_json(filepath, lines=True))\n",
    "df.head()"
   ]
  },
  {
   "cell_type": "markdown",
   "metadata": {
    "editable": true
   },
   "source": [
    "## #3: `time` Table\n",
    "#### Extract Data for Time Table\n",
    "- Filter records by `NextSong` action\n",
    "- Convert the `ts` timestamp column to datetime\n",
    "  - Hint: the current timestamp is in milliseconds\n",
    "- Extract the timestamp, hour, day, week of year, month, year, and weekday from the `ts` column and set `time_data` to a list containing these values in order\n",
    "  - Hint: use pandas' [`dt` attribute](https://pandas.pydata.org/pandas-docs/stable/reference/api/pandas.Series.dt.html) to access easily datetimelike properties.\n",
    "- Specify labels for these columns and set to `column_labels`\n",
    "- Create a dataframe, `time_df,` containing the time data for this file by combining `column_labels` and `time_data` into a dictionary and converting this into a dataframe"
   ]
  },
  {
   "cell_type": "code",
   "execution_count": 14,
   "metadata": {
    "editable": true
   },
   "outputs": [
    {
     "data": {
      "text/html": [
       "<div>\n",
       "<style scoped>\n",
       "    .dataframe tbody tr th:only-of-type {\n",
       "        vertical-align: middle;\n",
       "    }\n",
       "\n",
       "    .dataframe tbody tr th {\n",
       "        vertical-align: top;\n",
       "    }\n",
       "\n",
       "    .dataframe thead th {\n",
       "        text-align: right;\n",
       "    }\n",
       "</style>\n",
       "<table border=\"1\" class=\"dataframe\">\n",
       "  <thead>\n",
       "    <tr style=\"text-align: right;\">\n",
       "      <th></th>\n",
       "      <th>artist</th>\n",
       "      <th>auth</th>\n",
       "      <th>firstName</th>\n",
       "      <th>gender</th>\n",
       "      <th>itemInSession</th>\n",
       "      <th>lastName</th>\n",
       "      <th>length</th>\n",
       "      <th>level</th>\n",
       "      <th>location</th>\n",
       "      <th>method</th>\n",
       "      <th>page</th>\n",
       "      <th>registration</th>\n",
       "      <th>sessionId</th>\n",
       "      <th>song</th>\n",
       "      <th>status</th>\n",
       "      <th>ts</th>\n",
       "      <th>userAgent</th>\n",
       "      <th>userId</th>\n",
       "    </tr>\n",
       "  </thead>\n",
       "  <tbody>\n",
       "    <tr>\n",
       "      <th>0</th>\n",
       "      <td>Sydney Youngblood</td>\n",
       "      <td>Logged In</td>\n",
       "      <td>Jacob</td>\n",
       "      <td>M</td>\n",
       "      <td>53</td>\n",
       "      <td>Klein</td>\n",
       "      <td>238.07955</td>\n",
       "      <td>paid</td>\n",
       "      <td>Tampa-St. Petersburg-Clearwater, FL</td>\n",
       "      <td>PUT</td>\n",
       "      <td>NextSong</td>\n",
       "      <td>1.540558e+12</td>\n",
       "      <td>954</td>\n",
       "      <td>Ain't No Sunshine</td>\n",
       "      <td>200</td>\n",
       "      <td>1543449657796</td>\n",
       "      <td>\"Mozilla/5.0 (Macintosh; Intel Mac OS X 10_9_4...</td>\n",
       "      <td>73</td>\n",
       "    </tr>\n",
       "    <tr>\n",
       "      <th>1</th>\n",
       "      <td>Gang Starr</td>\n",
       "      <td>Logged In</td>\n",
       "      <td>Layla</td>\n",
       "      <td>F</td>\n",
       "      <td>88</td>\n",
       "      <td>Griffin</td>\n",
       "      <td>151.92771</td>\n",
       "      <td>paid</td>\n",
       "      <td>Lake Havasu City-Kingman, AZ</td>\n",
       "      <td>PUT</td>\n",
       "      <td>NextSong</td>\n",
       "      <td>1.541057e+12</td>\n",
       "      <td>984</td>\n",
       "      <td>My Advice 2 You (Explicit)</td>\n",
       "      <td>200</td>\n",
       "      <td>1543449690796</td>\n",
       "      <td>\"Mozilla/5.0 (Windows NT 6.1; WOW64) AppleWebK...</td>\n",
       "      <td>24</td>\n",
       "    </tr>\n",
       "    <tr>\n",
       "      <th>2</th>\n",
       "      <td>3OH!3</td>\n",
       "      <td>Logged In</td>\n",
       "      <td>Layla</td>\n",
       "      <td>F</td>\n",
       "      <td>89</td>\n",
       "      <td>Griffin</td>\n",
       "      <td>192.52200</td>\n",
       "      <td>paid</td>\n",
       "      <td>Lake Havasu City-Kingman, AZ</td>\n",
       "      <td>PUT</td>\n",
       "      <td>NextSong</td>\n",
       "      <td>1.541057e+12</td>\n",
       "      <td>984</td>\n",
       "      <td>My First Kiss (Feat. Ke$ha) [Album Version]</td>\n",
       "      <td>200</td>\n",
       "      <td>1543449841796</td>\n",
       "      <td>\"Mozilla/5.0 (Windows NT 6.1; WOW64) AppleWebK...</td>\n",
       "      <td>24</td>\n",
       "    </tr>\n",
       "    <tr>\n",
       "      <th>3</th>\n",
       "      <td>RÃÂ¶yksopp</td>\n",
       "      <td>Logged In</td>\n",
       "      <td>Jacob</td>\n",
       "      <td>M</td>\n",
       "      <td>54</td>\n",
       "      <td>Klein</td>\n",
       "      <td>369.81506</td>\n",
       "      <td>paid</td>\n",
       "      <td>Tampa-St. Petersburg-Clearwater, FL</td>\n",
       "      <td>PUT</td>\n",
       "      <td>NextSong</td>\n",
       "      <td>1.540558e+12</td>\n",
       "      <td>954</td>\n",
       "      <td>The Girl and The Robot</td>\n",
       "      <td>200</td>\n",
       "      <td>1543449895796</td>\n",
       "      <td>\"Mozilla/5.0 (Macintosh; Intel Mac OS X 10_9_4...</td>\n",
       "      <td>73</td>\n",
       "    </tr>\n",
       "    <tr>\n",
       "      <th>4</th>\n",
       "      <td>Kajagoogoo</td>\n",
       "      <td>Logged In</td>\n",
       "      <td>Layla</td>\n",
       "      <td>F</td>\n",
       "      <td>90</td>\n",
       "      <td>Griffin</td>\n",
       "      <td>223.55546</td>\n",
       "      <td>paid</td>\n",
       "      <td>Lake Havasu City-Kingman, AZ</td>\n",
       "      <td>PUT</td>\n",
       "      <td>NextSong</td>\n",
       "      <td>1.541057e+12</td>\n",
       "      <td>984</td>\n",
       "      <td>Too Shy</td>\n",
       "      <td>200</td>\n",
       "      <td>1543450033796</td>\n",
       "      <td>\"Mozilla/5.0 (Windows NT 6.1; WOW64) AppleWebK...</td>\n",
       "      <td>24</td>\n",
       "    </tr>\n",
       "  </tbody>\n",
       "</table>\n",
       "</div>"
      ],
      "text/plain": [
       "              artist       auth firstName gender  itemInSession lastName  \\\n",
       "0  Sydney Youngblood  Logged In     Jacob      M             53    Klein   \n",
       "1         Gang Starr  Logged In     Layla      F             88  Griffin   \n",
       "2              3OH!3  Logged In     Layla      F             89  Griffin   \n",
       "3        RÃÂ¶yksopp  Logged In     Jacob      M             54    Klein   \n",
       "4         Kajagoogoo  Logged In     Layla      F             90  Griffin   \n",
       "\n",
       "      length level                             location method      page  \\\n",
       "0  238.07955  paid  Tampa-St. Petersburg-Clearwater, FL    PUT  NextSong   \n",
       "1  151.92771  paid         Lake Havasu City-Kingman, AZ    PUT  NextSong   \n",
       "2  192.52200  paid         Lake Havasu City-Kingman, AZ    PUT  NextSong   \n",
       "3  369.81506  paid  Tampa-St. Petersburg-Clearwater, FL    PUT  NextSong   \n",
       "4  223.55546  paid         Lake Havasu City-Kingman, AZ    PUT  NextSong   \n",
       "\n",
       "   registration  sessionId                                         song  \\\n",
       "0  1.540558e+12        954                            Ain't No Sunshine   \n",
       "1  1.541057e+12        984                   My Advice 2 You (Explicit)   \n",
       "2  1.541057e+12        984  My First Kiss (Feat. Ke$ha) [Album Version]   \n",
       "3  1.540558e+12        954                       The Girl and The Robot   \n",
       "4  1.541057e+12        984                                      Too Shy   \n",
       "\n",
       "   status             ts                                          userAgent  \\\n",
       "0     200  1543449657796  \"Mozilla/5.0 (Macintosh; Intel Mac OS X 10_9_4...   \n",
       "1     200  1543449690796  \"Mozilla/5.0 (Windows NT 6.1; WOW64) AppleWebK...   \n",
       "2     200  1543449841796  \"Mozilla/5.0 (Windows NT 6.1; WOW64) AppleWebK...   \n",
       "3     200  1543449895796  \"Mozilla/5.0 (Macintosh; Intel Mac OS X 10_9_4...   \n",
       "4     200  1543450033796  \"Mozilla/5.0 (Windows NT 6.1; WOW64) AppleWebK...   \n",
       "\n",
       "  userId  \n",
       "0     73  \n",
       "1     24  \n",
       "2     24  \n",
       "3     73  \n",
       "4     24  "
      ]
     },
     "execution_count": 14,
     "metadata": {},
     "output_type": "execute_result"
    }
   ],
   "source": [
    "df = df[df['page']=='NextSong']\n",
    "df.head()"
   ]
  },
  {
   "cell_type": "code",
   "execution_count": 15,
   "metadata": {
    "editable": true
   },
   "outputs": [
    {
     "data": {
      "text/html": [
       "<div>\n",
       "<style scoped>\n",
       "    .dataframe tbody tr th:only-of-type {\n",
       "        vertical-align: middle;\n",
       "    }\n",
       "\n",
       "    .dataframe tbody tr th {\n",
       "        vertical-align: top;\n",
       "    }\n",
       "\n",
       "    .dataframe thead th {\n",
       "        text-align: right;\n",
       "    }\n",
       "</style>\n",
       "<table border=\"1\" class=\"dataframe\">\n",
       "  <thead>\n",
       "    <tr style=\"text-align: right;\">\n",
       "      <th></th>\n",
       "      <th>artist</th>\n",
       "      <th>auth</th>\n",
       "      <th>firstName</th>\n",
       "      <th>gender</th>\n",
       "      <th>itemInSession</th>\n",
       "      <th>lastName</th>\n",
       "      <th>length</th>\n",
       "      <th>level</th>\n",
       "      <th>location</th>\n",
       "      <th>method</th>\n",
       "      <th>page</th>\n",
       "      <th>registration</th>\n",
       "      <th>sessionId</th>\n",
       "      <th>song</th>\n",
       "      <th>status</th>\n",
       "      <th>ts</th>\n",
       "      <th>userAgent</th>\n",
       "      <th>userId</th>\n",
       "    </tr>\n",
       "  </thead>\n",
       "  <tbody>\n",
       "    <tr>\n",
       "      <th>0</th>\n",
       "      <td>Sydney Youngblood</td>\n",
       "      <td>Logged In</td>\n",
       "      <td>Jacob</td>\n",
       "      <td>M</td>\n",
       "      <td>53</td>\n",
       "      <td>Klein</td>\n",
       "      <td>238.07955</td>\n",
       "      <td>paid</td>\n",
       "      <td>Tampa-St. Petersburg-Clearwater, FL</td>\n",
       "      <td>PUT</td>\n",
       "      <td>NextSong</td>\n",
       "      <td>1.540558e+12</td>\n",
       "      <td>954</td>\n",
       "      <td>Ain't No Sunshine</td>\n",
       "      <td>200</td>\n",
       "      <td>2018-11-29 00:00:57.796</td>\n",
       "      <td>\"Mozilla/5.0 (Macintosh; Intel Mac OS X 10_9_4...</td>\n",
       "      <td>73</td>\n",
       "    </tr>\n",
       "    <tr>\n",
       "      <th>1</th>\n",
       "      <td>Gang Starr</td>\n",
       "      <td>Logged In</td>\n",
       "      <td>Layla</td>\n",
       "      <td>F</td>\n",
       "      <td>88</td>\n",
       "      <td>Griffin</td>\n",
       "      <td>151.92771</td>\n",
       "      <td>paid</td>\n",
       "      <td>Lake Havasu City-Kingman, AZ</td>\n",
       "      <td>PUT</td>\n",
       "      <td>NextSong</td>\n",
       "      <td>1.541057e+12</td>\n",
       "      <td>984</td>\n",
       "      <td>My Advice 2 You (Explicit)</td>\n",
       "      <td>200</td>\n",
       "      <td>2018-11-29 00:01:30.796</td>\n",
       "      <td>\"Mozilla/5.0 (Windows NT 6.1; WOW64) AppleWebK...</td>\n",
       "      <td>24</td>\n",
       "    </tr>\n",
       "    <tr>\n",
       "      <th>2</th>\n",
       "      <td>3OH!3</td>\n",
       "      <td>Logged In</td>\n",
       "      <td>Layla</td>\n",
       "      <td>F</td>\n",
       "      <td>89</td>\n",
       "      <td>Griffin</td>\n",
       "      <td>192.52200</td>\n",
       "      <td>paid</td>\n",
       "      <td>Lake Havasu City-Kingman, AZ</td>\n",
       "      <td>PUT</td>\n",
       "      <td>NextSong</td>\n",
       "      <td>1.541057e+12</td>\n",
       "      <td>984</td>\n",
       "      <td>My First Kiss (Feat. Ke$ha) [Album Version]</td>\n",
       "      <td>200</td>\n",
       "      <td>2018-11-29 00:04:01.796</td>\n",
       "      <td>\"Mozilla/5.0 (Windows NT 6.1; WOW64) AppleWebK...</td>\n",
       "      <td>24</td>\n",
       "    </tr>\n",
       "    <tr>\n",
       "      <th>3</th>\n",
       "      <td>RÃÂ¶yksopp</td>\n",
       "      <td>Logged In</td>\n",
       "      <td>Jacob</td>\n",
       "      <td>M</td>\n",
       "      <td>54</td>\n",
       "      <td>Klein</td>\n",
       "      <td>369.81506</td>\n",
       "      <td>paid</td>\n",
       "      <td>Tampa-St. Petersburg-Clearwater, FL</td>\n",
       "      <td>PUT</td>\n",
       "      <td>NextSong</td>\n",
       "      <td>1.540558e+12</td>\n",
       "      <td>954</td>\n",
       "      <td>The Girl and The Robot</td>\n",
       "      <td>200</td>\n",
       "      <td>2018-11-29 00:04:55.796</td>\n",
       "      <td>\"Mozilla/5.0 (Macintosh; Intel Mac OS X 10_9_4...</td>\n",
       "      <td>73</td>\n",
       "    </tr>\n",
       "    <tr>\n",
       "      <th>4</th>\n",
       "      <td>Kajagoogoo</td>\n",
       "      <td>Logged In</td>\n",
       "      <td>Layla</td>\n",
       "      <td>F</td>\n",
       "      <td>90</td>\n",
       "      <td>Griffin</td>\n",
       "      <td>223.55546</td>\n",
       "      <td>paid</td>\n",
       "      <td>Lake Havasu City-Kingman, AZ</td>\n",
       "      <td>PUT</td>\n",
       "      <td>NextSong</td>\n",
       "      <td>1.541057e+12</td>\n",
       "      <td>984</td>\n",
       "      <td>Too Shy</td>\n",
       "      <td>200</td>\n",
       "      <td>2018-11-29 00:07:13.796</td>\n",
       "      <td>\"Mozilla/5.0 (Windows NT 6.1; WOW64) AppleWebK...</td>\n",
       "      <td>24</td>\n",
       "    </tr>\n",
       "  </tbody>\n",
       "</table>\n",
       "</div>"
      ],
      "text/plain": [
       "              artist       auth firstName gender  itemInSession lastName  \\\n",
       "0  Sydney Youngblood  Logged In     Jacob      M             53    Klein   \n",
       "1         Gang Starr  Logged In     Layla      F             88  Griffin   \n",
       "2              3OH!3  Logged In     Layla      F             89  Griffin   \n",
       "3        RÃÂ¶yksopp  Logged In     Jacob      M             54    Klein   \n",
       "4         Kajagoogoo  Logged In     Layla      F             90  Griffin   \n",
       "\n",
       "      length level                             location method      page  \\\n",
       "0  238.07955  paid  Tampa-St. Petersburg-Clearwater, FL    PUT  NextSong   \n",
       "1  151.92771  paid         Lake Havasu City-Kingman, AZ    PUT  NextSong   \n",
       "2  192.52200  paid         Lake Havasu City-Kingman, AZ    PUT  NextSong   \n",
       "3  369.81506  paid  Tampa-St. Petersburg-Clearwater, FL    PUT  NextSong   \n",
       "4  223.55546  paid         Lake Havasu City-Kingman, AZ    PUT  NextSong   \n",
       "\n",
       "   registration  sessionId                                         song  \\\n",
       "0  1.540558e+12        954                            Ain't No Sunshine   \n",
       "1  1.541057e+12        984                   My Advice 2 You (Explicit)   \n",
       "2  1.541057e+12        984  My First Kiss (Feat. Ke$ha) [Album Version]   \n",
       "3  1.540558e+12        954                       The Girl and The Robot   \n",
       "4  1.541057e+12        984                                      Too Shy   \n",
       "\n",
       "   status                      ts  \\\n",
       "0     200 2018-11-29 00:00:57.796   \n",
       "1     200 2018-11-29 00:01:30.796   \n",
       "2     200 2018-11-29 00:04:01.796   \n",
       "3     200 2018-11-29 00:04:55.796   \n",
       "4     200 2018-11-29 00:07:13.796   \n",
       "\n",
       "                                           userAgent userId  \n",
       "0  \"Mozilla/5.0 (Macintosh; Intel Mac OS X 10_9_4...     73  \n",
       "1  \"Mozilla/5.0 (Windows NT 6.1; WOW64) AppleWebK...     24  \n",
       "2  \"Mozilla/5.0 (Windows NT 6.1; WOW64) AppleWebK...     24  \n",
       "3  \"Mozilla/5.0 (Macintosh; Intel Mac OS X 10_9_4...     73  \n",
       "4  \"Mozilla/5.0 (Windows NT 6.1; WOW64) AppleWebK...     24  "
      ]
     },
     "execution_count": 15,
     "metadata": {},
     "output_type": "execute_result"
    }
   ],
   "source": [
    "df['ts'] = pd.to_datetime(df['ts'], unit='ms')\n",
    "t = df.ts\n",
    "df.head()"
   ]
  },
  {
   "cell_type": "code",
   "execution_count": 16,
   "metadata": {
    "editable": true
   },
   "outputs": [
    {
     "name": "stdout",
     "output_type": "stream",
     "text": [
      "{'timestamp': (Timestamp('2018-11-29 00:00:57.796000'), Timestamp('2018-11-29 00:01:30.796000'), Timestamp('2018-11-29 00:04:01.796000'), Timestamp('2018-11-29 00:04:55.796000'), Timestamp('2018-11-29 00:07:13.796000'), Timestamp('2018-11-29 00:10:56.796000'), Timestamp('2018-11-29 00:11:04.796000'), Timestamp('2018-11-29 00:14:10.796000'), Timestamp('2018-11-29 00:16:02.796000'), Timestamp('2018-11-29 00:18:11.796000'), Timestamp('2018-11-29 00:22:13.796000'), Timestamp('2018-11-29 00:26:15.796000'), Timestamp('2018-11-29 00:30:53.796000'), Timestamp('2018-11-29 00:35:07.796000'), Timestamp('2018-11-29 00:40:14.796000'), Timestamp('2018-11-29 00:44:13.796000'), Timestamp('2018-11-29 00:46:34.796000'), Timestamp('2018-11-29 00:49:48.796000'), Timestamp('2018-11-29 00:57:10.796000'), Timestamp('2018-11-29 01:02:12.796000'), Timestamp('2018-11-29 01:06:36.796000'), Timestamp('2018-11-29 01:09:23.796000'), Timestamp('2018-11-29 01:09:58.796000'), Timestamp('2018-11-29 01:13:57.796000'), Timestamp('2018-11-29 01:17:34.796000'), Timestamp('2018-11-29 01:22:13.796000'), Timestamp('2018-11-29 01:26:18.796000'), Timestamp('2018-11-29 01:31:13.796000'), Timestamp('2018-11-29 01:33:38.796000'), Timestamp('2018-11-29 01:38:30.796000'), Timestamp('2018-11-29 01:42:27.796000'), Timestamp('2018-11-29 01:46:50.796000'), Timestamp('2018-11-29 01:52:26.796000'), Timestamp('2018-11-29 01:55:17.796000'), Timestamp('2018-11-29 02:24:31.796000'), Timestamp('2018-11-29 02:28:05.796000'), Timestamp('2018-11-29 02:31:11.796000'), Timestamp('2018-11-29 02:36:13.796000'), Timestamp('2018-11-29 02:40:10.796000'), Timestamp('2018-11-29 02:57:57.796000'), Timestamp('2018-11-29 03:00:42.796000'), Timestamp('2018-11-29 03:07:15.796000'), Timestamp('2018-11-29 04:27:16.796000'), Timestamp('2018-11-29 04:31:53.796000'), Timestamp('2018-11-29 04:55:55.796000'), Timestamp('2018-11-29 05:00:08.796000'), Timestamp('2018-11-29 08:18:42.796000'), Timestamp('2018-11-29 08:23:09.796000'), Timestamp('2018-11-29 10:59:27.796000'), Timestamp('2018-11-29 11:03:12.796000'), Timestamp('2018-11-29 11:03:31.796000'), Timestamp('2018-11-29 11:07:19.796000'), Timestamp('2018-11-29 11:10:57.796000'), Timestamp('2018-11-29 12:21:07.796000'), Timestamp('2018-11-29 13:14:11.796000'), Timestamp('2018-11-29 13:58:27.796000'), Timestamp('2018-11-29 14:01:21.796000'), Timestamp('2018-11-29 14:05:13.796000'), Timestamp('2018-11-29 14:10:08.796000'), Timestamp('2018-11-29 14:14:04.796000'), Timestamp('2018-11-29 14:17:50.796000'), Timestamp('2018-11-29 14:22:14.796000'), Timestamp('2018-11-29 14:26:23.796000'), Timestamp('2018-11-29 14:32:31.796000'), Timestamp('2018-11-29 14:35:44.796000'), Timestamp('2018-11-29 14:40:36.796000'), Timestamp('2018-11-29 14:43:29.796000'), Timestamp('2018-11-29 14:47:47.796000'), Timestamp('2018-11-29 14:51:12.796000'), Timestamp('2018-11-29 14:55:45.796000'), Timestamp('2018-11-29 14:57:52.796000'), Timestamp('2018-11-29 15:02:51.796000'), Timestamp('2018-11-29 15:05:49.796000'), Timestamp('2018-11-29 15:06:52.796000'), Timestamp('2018-11-29 15:09:44.796000'), Timestamp('2018-11-29 15:11:08.796000'), Timestamp('2018-11-29 15:11:35.796000'), Timestamp('2018-11-29 15:11:47.796000'), Timestamp('2018-11-29 15:12:48.796000'), Timestamp('2018-11-29 15:14:34.796000'), Timestamp('2018-11-29 15:15:28.796000'), Timestamp('2018-11-29 15:15:36.796000'), Timestamp('2018-11-29 15:16:13.796000'), Timestamp('2018-11-29 15:18:58.796000'), Timestamp('2018-11-29 15:19:32.796000'), Timestamp('2018-11-29 15:20:30.796000'), Timestamp('2018-11-29 15:20:39.796000'), Timestamp('2018-11-29 15:22:38.796000'), Timestamp('2018-11-29 15:24:15.796000'), Timestamp('2018-11-29 15:26:40.796000'), Timestamp('2018-11-29 15:27:01.796000'), Timestamp('2018-11-29 15:27:37.796000'), Timestamp('2018-11-29 15:29:41.796000'), Timestamp('2018-11-29 15:30:01.796000'), Timestamp('2018-11-29 15:30:57.796000'), Timestamp('2018-11-29 15:33:38.796000'), Timestamp('2018-11-29 15:34:16.796000'), Timestamp('2018-11-29 15:36:32.796000'), Timestamp('2018-11-29 15:37:16.796000'), Timestamp('2018-11-29 15:39:39.796000'), Timestamp('2018-11-29 15:41:17.796000'), Timestamp('2018-11-29 15:41:57.796000'), Timestamp('2018-11-29 15:45:38.796000'), Timestamp('2018-11-29 15:45:41.796000'), Timestamp('2018-11-29 15:49:16.796000'), Timestamp('2018-11-29 15:49:38.796000'), Timestamp('2018-11-29 15:53:39.796000'), Timestamp('2018-11-29 15:54:12.796000'), Timestamp('2018-11-29 15:57:35.796000'), Timestamp('2018-11-29 15:57:55.796000'), Timestamp('2018-11-29 16:00:01.796000'), Timestamp('2018-11-29 16:00:53.796000'), Timestamp('2018-11-29 16:04:06.796000'), Timestamp('2018-11-29 16:05:40.796000'), Timestamp('2018-11-29 16:07:07.796000'), Timestamp('2018-11-29 16:09:11.796000'), Timestamp('2018-11-29 16:09:24.796000'), Timestamp('2018-11-29 16:11:29.796000'), Timestamp('2018-11-29 16:13:23.796000'), Timestamp('2018-11-29 16:15:34.796000'), Timestamp('2018-11-29 16:18:25.796000'), Timestamp('2018-11-29 16:19:30.796000'), Timestamp('2018-11-29 16:22:24.796000'), Timestamp('2018-11-29 16:23:27.796000'), Timestamp('2018-11-29 16:26:21.796000'), Timestamp('2018-11-29 16:28:12.796000'), Timestamp('2018-11-29 16:30:05.796000'), Timestamp('2018-11-29 16:31:19.796000'), Timestamp('2018-11-29 16:34:03.796000'), Timestamp('2018-11-29 16:36:45.796000'), Timestamp('2018-11-29 16:38:29.796000'), Timestamp('2018-11-29 16:40:32.796000'), Timestamp('2018-11-29 16:41:33.796000'), Timestamp('2018-11-29 16:41:37.796000'), Timestamp('2018-11-29 16:44:39.796000'), Timestamp('2018-11-29 16:45:38.796000'), Timestamp('2018-11-29 16:47:38.796000'), Timestamp('2018-11-29 16:47:42.796000'), Timestamp('2018-11-29 16:49:25.796000'), Timestamp('2018-11-29 16:50:16.796000'), Timestamp('2018-11-29 16:54:22.796000'), Timestamp('2018-11-29 16:54:27.796000'), Timestamp('2018-11-29 16:54:41.796000'), Timestamp('2018-11-29 16:55:14.796000'), Timestamp('2018-11-29 16:58:01.796000'), Timestamp('2018-11-29 16:58:03.796000'), Timestamp('2018-11-29 16:58:11.796000'), Timestamp('2018-11-29 17:01:21.796000'), Timestamp('2018-11-29 17:01:34.796000'), Timestamp('2018-11-29 17:01:41.796000'), Timestamp('2018-11-29 17:01:49.796000'), Timestamp('2018-11-29 17:05:10.796000'), Timestamp('2018-11-29 17:05:20.796000'), Timestamp('2018-11-29 17:05:26.796000'), Timestamp('2018-11-29 17:06:16.796000'), Timestamp('2018-11-29 17:06:48.796000'), Timestamp('2018-11-29 17:09:13.796000'), Timestamp('2018-11-29 17:09:14.796000'), Timestamp('2018-11-29 17:10:14.796000'), Timestamp('2018-11-29 17:12:34.796000'), Timestamp('2018-11-29 17:13:55.796000'), Timestamp('2018-11-29 17:14:22.796000'), Timestamp('2018-11-29 17:16:11.796000'), Timestamp('2018-11-29 17:18:01.796000'), Timestamp('2018-11-29 17:18:33.796000'), Timestamp('2018-11-29 17:19:26.796000'), Timestamp('2018-11-29 17:22:01.796000'), Timestamp('2018-11-29 17:22:27.796000'), Timestamp('2018-11-29 17:23:01.796000'), Timestamp('2018-11-29 17:24:32.796000'), Timestamp('2018-11-29 17:25:44.796000'), Timestamp('2018-11-29 17:27:23.796000'), Timestamp('2018-11-29 17:28:38.796000'), Timestamp('2018-11-29 17:31:27.796000'), Timestamp('2018-11-29 17:32:00.796000'), Timestamp('2018-11-29 17:33:22.796000'), Timestamp('2018-11-29 17:35:29.796000'), Timestamp('2018-11-29 17:39:31.796000'), Timestamp('2018-11-29 17:39:48.796000'), Timestamp('2018-11-29 17:41:02.796000'), Timestamp('2018-11-29 17:41:54.796000'), Timestamp('2018-11-29 17:43:21.796000'), Timestamp('2018-11-29 17:45:34.796000'), Timestamp('2018-11-29 17:45:51.796000'), Timestamp('2018-11-29 17:48:25.796000'), Timestamp('2018-11-29 17:49:47.796000'), Timestamp('2018-11-29 17:50:11.796000'), Timestamp('2018-11-29 17:51:12.796000'), Timestamp('2018-11-29 17:52:18.796000'), Timestamp('2018-11-29 17:53:45.796000'), Timestamp('2018-11-29 17:55:54.796000'), Timestamp('2018-11-29 17:56:29.796000'), Timestamp('2018-11-29 17:58:58.796000'), Timestamp('2018-11-29 17:59:53.796000'), Timestamp('2018-11-29 18:01:37.796000'), Timestamp('2018-11-29 18:03:18.796000'), Timestamp('2018-11-29 18:03:38.796000'), Timestamp('2018-11-29 18:05:39.796000'), Timestamp('2018-11-29 18:07:55.796000'), Timestamp('2018-11-29 18:07:57.796000'), Timestamp('2018-11-29 18:09:01.796000'), Timestamp('2018-11-29 18:11:00.796000'), Timestamp('2018-11-29 18:12:55.796000'), Timestamp('2018-11-29 18:13:02.796000'), Timestamp('2018-11-29 18:13:45.796000'), Timestamp('2018-11-29 18:14:44.796000'), Timestamp('2018-11-29 18:17:33.796000'), Timestamp('2018-11-29 18:18:09.796000'), Timestamp('2018-11-29 18:21:12.796000'), Timestamp('2018-11-29 18:21:24.796000'), Timestamp('2018-11-29 18:21:52.796000'), Timestamp('2018-11-29 18:24:29.796000'), Timestamp('2018-11-29 18:24:38.796000'), Timestamp('2018-11-29 18:26:27.796000'), Timestamp('2018-11-29 18:26:53.796000'), Timestamp('2018-11-29 18:27:24.796000'), Timestamp('2018-11-29 18:28:34.796000'), Timestamp('2018-11-29 18:29:50.796000'), Timestamp('2018-11-29 18:30:15.796000'), Timestamp('2018-11-29 18:33:04.796000'), Timestamp('2018-11-29 18:33:35.796000'), Timestamp('2018-11-29 18:37:25.796000'), Timestamp('2018-11-29 18:37:53.796000'), Timestamp('2018-11-29 18:41:09.796000'), Timestamp('2018-11-29 18:43:31.796000'), Timestamp('2018-11-29 18:46:10.796000'), Timestamp('2018-11-29 18:47:30.796000'), Timestamp('2018-11-29 18:50:54.796000'), Timestamp('2018-11-29 18:52:00.796000'), Timestamp('2018-11-29 18:55:24.796000'), Timestamp('2018-11-29 18:55:30.796000'), Timestamp('2018-11-29 18:58:33.796000'), Timestamp('2018-11-29 19:00:17.796000'), Timestamp('2018-11-29 19:01:40.796000'), Timestamp('2018-11-29 19:03:58.796000'), Timestamp('2018-11-29 19:04:44.796000'), Timestamp('2018-11-29 19:06:24.796000'), Timestamp('2018-11-29 19:08:41.796000'), Timestamp('2018-11-29 19:09:47.796000'), Timestamp('2018-11-29 19:11:39.796000'), Timestamp('2018-11-29 19:13:04.796000'), Timestamp('2018-11-29 19:14:56.796000'), Timestamp('2018-11-29 19:15:33.796000'), Timestamp('2018-11-29 19:20:07.796000'), Timestamp('2018-11-29 19:24:39.796000'), Timestamp('2018-11-29 19:26:31.796000'), Timestamp('2018-11-29 19:37:26.796000'), Timestamp('2018-11-29 19:40:17.796000'), Timestamp('2018-11-29 19:45:18.796000'), Timestamp('2018-11-29 20:06:02.796000'), Timestamp('2018-11-29 20:08:58.796000'), Timestamp('2018-11-29 20:11:07.796000'), Timestamp('2018-11-29 20:14:33.796000'), Timestamp('2018-11-29 20:18:35.796000'), Timestamp('2018-11-29 20:21:41.796000'), Timestamp('2018-11-29 20:25:19.796000'), Timestamp('2018-11-29 20:29:23.796000'), Timestamp('2018-11-29 20:34:33.796000'), Timestamp('2018-11-29 20:38:41.796000'), Timestamp('2018-11-29 20:39:10.796000'), Timestamp('2018-11-29 20:43:06.796000'), Timestamp('2018-11-29 20:43:07.796000'), Timestamp('2018-11-29 20:46:47.796000'), Timestamp('2018-11-29 20:46:54.796000'), Timestamp('2018-11-29 20:51:10.796000'), Timestamp('2018-11-29 20:52:05.796000'), Timestamp('2018-11-29 20:54:07.796000'), Timestamp('2018-11-29 20:54:41.796000'), Timestamp('2018-11-29 20:58:44.796000'), Timestamp('2018-11-29 21:00:03.796000'), Timestamp('2018-11-29 21:01:07.796000'), Timestamp('2018-11-29 21:03:20.796000'), Timestamp('2018-11-29 21:06:03.796000'), Timestamp('2018-11-29 21:06:35.796000'), Timestamp('2018-11-29 21:09:20.796000'), Timestamp('2018-11-29 21:12:56.796000'), Timestamp('2018-11-29 21:14:16.796000'), Timestamp('2018-11-29 21:14:49.796000'), Timestamp('2018-11-29 21:16:53.796000'), Timestamp('2018-11-29 21:17:30.796000'), Timestamp('2018-11-29 21:19:18.796000'), Timestamp('2018-11-29 21:20:57.796000'), Timestamp('2018-11-29 21:21:47.796000'), Timestamp('2018-11-29 21:22:18.796000'), Timestamp('2018-11-29 21:24:03.796000'), Timestamp('2018-11-29 21:24:35.796000'), Timestamp('2018-11-29 21:27:00.796000'), Timestamp('2018-11-29 21:27:48.796000'), Timestamp('2018-11-29 21:27:50.796000'), Timestamp('2018-11-29 21:30:47.796000'), Timestamp('2018-11-29 21:31:34.796000'), Timestamp('2018-11-29 21:34:25.796000'), Timestamp('2018-11-29 21:34:28.796000'), Timestamp('2018-11-29 21:38:08.796000'), Timestamp('2018-11-29 21:42:10.796000'), Timestamp('2018-11-29 21:46:49.796000'), Timestamp('2018-11-29 21:52:57.796000'), Timestamp('2018-11-29 21:57:16.796000'), Timestamp('2018-11-29 22:00:31.796000'), Timestamp('2018-11-29 22:06:36.796000'), Timestamp('2018-11-29 22:09:57.796000'), Timestamp('2018-11-29 22:10:17.796000'), Timestamp('2018-11-29 22:13:15.796000'), Timestamp('2018-11-29 22:13:38.796000'), Timestamp('2018-11-29 22:17:38.796000'), Timestamp('2018-11-29 22:21:31.796000'), Timestamp('2018-11-29 22:27:31.796000'), Timestamp('2018-11-29 22:32:49.796000'), Timestamp('2018-11-29 22:35:44.796000'), Timestamp('2018-11-29 22:39:38.796000'), Timestamp('2018-11-29 22:42:52.796000'), Timestamp('2018-11-29 22:46:23.796000'), Timestamp('2018-11-29 22:50:27.796000'), Timestamp('2018-11-29 22:51:18.796000'), Timestamp('2018-11-29 22:53:32.796000'), Timestamp('2018-11-29 22:57:22.796000'), Timestamp('2018-11-29 23:02:05.796000'), Timestamp('2018-11-29 23:05:13.796000'), Timestamp('2018-11-29 23:18:35.796000')), 'hour': (0, 0, 0, 0, 0, 0, 0, 0, 0, 0, 0, 0, 0, 0, 0, 0, 0, 0, 0, 1, 1, 1, 1, 1, 1, 1, 1, 1, 1, 1, 1, 1, 1, 1, 2, 2, 2, 2, 2, 2, 3, 3, 4, 4, 4, 5, 8, 8, 10, 11, 11, 11, 11, 12, 13, 13, 14, 14, 14, 14, 14, 14, 14, 14, 14, 14, 14, 14, 14, 14, 14, 15, 15, 15, 15, 15, 15, 15, 15, 15, 15, 15, 15, 15, 15, 15, 15, 15, 15, 15, 15, 15, 15, 15, 15, 15, 15, 15, 15, 15, 15, 15, 15, 15, 15, 15, 15, 15, 15, 15, 16, 16, 16, 16, 16, 16, 16, 16, 16, 16, 16, 16, 16, 16, 16, 16, 16, 16, 16, 16, 16, 16, 16, 16, 16, 16, 16, 16, 16, 16, 16, 16, 16, 16, 16, 16, 16, 17, 17, 17, 17, 17, 17, 17, 17, 17, 17, 17, 17, 17, 17, 17, 17, 17, 17, 17, 17, 17, 17, 17, 17, 17, 17, 17, 17, 17, 17, 17, 17, 17, 17, 17, 17, 17, 17, 17, 17, 17, 17, 17, 17, 17, 17, 17, 18, 18, 18, 18, 18, 18, 18, 18, 18, 18, 18, 18, 18, 18, 18, 18, 18, 18, 18, 18, 18, 18, 18, 18, 18, 18, 18, 18, 18, 18, 18, 18, 18, 18, 18, 18, 18, 18, 19, 19, 19, 19, 19, 19, 19, 19, 19, 19, 19, 19, 19, 19, 19, 19, 19, 20, 20, 20, 20, 20, 20, 20, 20, 20, 20, 20, 20, 20, 20, 20, 20, 20, 20, 20, 20, 21, 21, 21, 21, 21, 21, 21, 21, 21, 21, 21, 21, 21, 21, 21, 21, 21, 21, 21, 21, 21, 21, 21, 21, 21, 21, 21, 21, 21, 22, 22, 22, 22, 22, 22, 22, 22, 22, 22, 22, 22, 22, 22, 22, 22, 22, 22, 23, 23, 23), 'day': (29, 29, 29, 29, 29, 29, 29, 29, 29, 29, 29, 29, 29, 29, 29, 29, 29, 29, 29, 29, 29, 29, 29, 29, 29, 29, 29, 29, 29, 29, 29, 29, 29, 29, 29, 29, 29, 29, 29, 29, 29, 29, 29, 29, 29, 29, 29, 29, 29, 29, 29, 29, 29, 29, 29, 29, 29, 29, 29, 29, 29, 29, 29, 29, 29, 29, 29, 29, 29, 29, 29, 29, 29, 29, 29, 29, 29, 29, 29, 29, 29, 29, 29, 29, 29, 29, 29, 29, 29, 29, 29, 29, 29, 29, 29, 29, 29, 29, 29, 29, 29, 29, 29, 29, 29, 29, 29, 29, 29, 29, 29, 29, 29, 29, 29, 29, 29, 29, 29, 29, 29, 29, 29, 29, 29, 29, 29, 29, 29, 29, 29, 29, 29, 29, 29, 29, 29, 29, 29, 29, 29, 29, 29, 29, 29, 29, 29, 29, 29, 29, 29, 29, 29, 29, 29, 29, 29, 29, 29, 29, 29, 29, 29, 29, 29, 29, 29, 29, 29, 29, 29, 29, 29, 29, 29, 29, 29, 29, 29, 29, 29, 29, 29, 29, 29, 29, 29, 29, 29, 29, 29, 29, 29, 29, 29, 29, 29, 29, 29, 29, 29, 29, 29, 29, 29, 29, 29, 29, 29, 29, 29, 29, 29, 29, 29, 29, 29, 29, 29, 29, 29, 29, 29, 29, 29, 29, 29, 29, 29, 29, 29, 29, 29, 29, 29, 29, 29, 29, 29, 29, 29, 29, 29, 29, 29, 29, 29, 29, 29, 29, 29, 29, 29, 29, 29, 29, 29, 29, 29, 29, 29, 29, 29, 29, 29, 29, 29, 29, 29, 29, 29, 29, 29, 29, 29, 29, 29, 29, 29, 29, 29, 29, 29, 29, 29, 29, 29, 29, 29, 29, 29, 29, 29, 29, 29, 29, 29, 29, 29, 29, 29, 29, 29, 29, 29, 29, 29, 29, 29, 29, 29, 29, 29, 29, 29, 29, 29, 29, 29), 'week': (48, 48, 48, 48, 48, 48, 48, 48, 48, 48, 48, 48, 48, 48, 48, 48, 48, 48, 48, 48, 48, 48, 48, 48, 48, 48, 48, 48, 48, 48, 48, 48, 48, 48, 48, 48, 48, 48, 48, 48, 48, 48, 48, 48, 48, 48, 48, 48, 48, 48, 48, 48, 48, 48, 48, 48, 48, 48, 48, 48, 48, 48, 48, 48, 48, 48, 48, 48, 48, 48, 48, 48, 48, 48, 48, 48, 48, 48, 48, 48, 48, 48, 48, 48, 48, 48, 48, 48, 48, 48, 48, 48, 48, 48, 48, 48, 48, 48, 48, 48, 48, 48, 48, 48, 48, 48, 48, 48, 48, 48, 48, 48, 48, 48, 48, 48, 48, 48, 48, 48, 48, 48, 48, 48, 48, 48, 48, 48, 48, 48, 48, 48, 48, 48, 48, 48, 48, 48, 48, 48, 48, 48, 48, 48, 48, 48, 48, 48, 48, 48, 48, 48, 48, 48, 48, 48, 48, 48, 48, 48, 48, 48, 48, 48, 48, 48, 48, 48, 48, 48, 48, 48, 48, 48, 48, 48, 48, 48, 48, 48, 48, 48, 48, 48, 48, 48, 48, 48, 48, 48, 48, 48, 48, 48, 48, 48, 48, 48, 48, 48, 48, 48, 48, 48, 48, 48, 48, 48, 48, 48, 48, 48, 48, 48, 48, 48, 48, 48, 48, 48, 48, 48, 48, 48, 48, 48, 48, 48, 48, 48, 48, 48, 48, 48, 48, 48, 48, 48, 48, 48, 48, 48, 48, 48, 48, 48, 48, 48, 48, 48, 48, 48, 48, 48, 48, 48, 48, 48, 48, 48, 48, 48, 48, 48, 48, 48, 48, 48, 48, 48, 48, 48, 48, 48, 48, 48, 48, 48, 48, 48, 48, 48, 48, 48, 48, 48, 48, 48, 48, 48, 48, 48, 48, 48, 48, 48, 48, 48, 48, 48, 48, 48, 48, 48, 48, 48, 48, 48, 48, 48, 48, 48, 48, 48, 48, 48, 48, 48, 48), 'month': (11, 11, 11, 11, 11, 11, 11, 11, 11, 11, 11, 11, 11, 11, 11, 11, 11, 11, 11, 11, 11, 11, 11, 11, 11, 11, 11, 11, 11, 11, 11, 11, 11, 11, 11, 11, 11, 11, 11, 11, 11, 11, 11, 11, 11, 11, 11, 11, 11, 11, 11, 11, 11, 11, 11, 11, 11, 11, 11, 11, 11, 11, 11, 11, 11, 11, 11, 11, 11, 11, 11, 11, 11, 11, 11, 11, 11, 11, 11, 11, 11, 11, 11, 11, 11, 11, 11, 11, 11, 11, 11, 11, 11, 11, 11, 11, 11, 11, 11, 11, 11, 11, 11, 11, 11, 11, 11, 11, 11, 11, 11, 11, 11, 11, 11, 11, 11, 11, 11, 11, 11, 11, 11, 11, 11, 11, 11, 11, 11, 11, 11, 11, 11, 11, 11, 11, 11, 11, 11, 11, 11, 11, 11, 11, 11, 11, 11, 11, 11, 11, 11, 11, 11, 11, 11, 11, 11, 11, 11, 11, 11, 11, 11, 11, 11, 11, 11, 11, 11, 11, 11, 11, 11, 11, 11, 11, 11, 11, 11, 11, 11, 11, 11, 11, 11, 11, 11, 11, 11, 11, 11, 11, 11, 11, 11, 11, 11, 11, 11, 11, 11, 11, 11, 11, 11, 11, 11, 11, 11, 11, 11, 11, 11, 11, 11, 11, 11, 11, 11, 11, 11, 11, 11, 11, 11, 11, 11, 11, 11, 11, 11, 11, 11, 11, 11, 11, 11, 11, 11, 11, 11, 11, 11, 11, 11, 11, 11, 11, 11, 11, 11, 11, 11, 11, 11, 11, 11, 11, 11, 11, 11, 11, 11, 11, 11, 11, 11, 11, 11, 11, 11, 11, 11, 11, 11, 11, 11, 11, 11, 11, 11, 11, 11, 11, 11, 11, 11, 11, 11, 11, 11, 11, 11, 11, 11, 11, 11, 11, 11, 11, 11, 11, 11, 11, 11, 11, 11, 11, 11, 11, 11, 11, 11, 11, 11, 11, 11, 11, 11), 'year': (2018, 2018, 2018, 2018, 2018, 2018, 2018, 2018, 2018, 2018, 2018, 2018, 2018, 2018, 2018, 2018, 2018, 2018, 2018, 2018, 2018, 2018, 2018, 2018, 2018, 2018, 2018, 2018, 2018, 2018, 2018, 2018, 2018, 2018, 2018, 2018, 2018, 2018, 2018, 2018, 2018, 2018, 2018, 2018, 2018, 2018, 2018, 2018, 2018, 2018, 2018, 2018, 2018, 2018, 2018, 2018, 2018, 2018, 2018, 2018, 2018, 2018, 2018, 2018, 2018, 2018, 2018, 2018, 2018, 2018, 2018, 2018, 2018, 2018, 2018, 2018, 2018, 2018, 2018, 2018, 2018, 2018, 2018, 2018, 2018, 2018, 2018, 2018, 2018, 2018, 2018, 2018, 2018, 2018, 2018, 2018, 2018, 2018, 2018, 2018, 2018, 2018, 2018, 2018, 2018, 2018, 2018, 2018, 2018, 2018, 2018, 2018, 2018, 2018, 2018, 2018, 2018, 2018, 2018, 2018, 2018, 2018, 2018, 2018, 2018, 2018, 2018, 2018, 2018, 2018, 2018, 2018, 2018, 2018, 2018, 2018, 2018, 2018, 2018, 2018, 2018, 2018, 2018, 2018, 2018, 2018, 2018, 2018, 2018, 2018, 2018, 2018, 2018, 2018, 2018, 2018, 2018, 2018, 2018, 2018, 2018, 2018, 2018, 2018, 2018, 2018, 2018, 2018, 2018, 2018, 2018, 2018, 2018, 2018, 2018, 2018, 2018, 2018, 2018, 2018, 2018, 2018, 2018, 2018, 2018, 2018, 2018, 2018, 2018, 2018, 2018, 2018, 2018, 2018, 2018, 2018, 2018, 2018, 2018, 2018, 2018, 2018, 2018, 2018, 2018, 2018, 2018, 2018, 2018, 2018, 2018, 2018, 2018, 2018, 2018, 2018, 2018, 2018, 2018, 2018, 2018, 2018, 2018, 2018, 2018, 2018, 2018, 2018, 2018, 2018, 2018, 2018, 2018, 2018, 2018, 2018, 2018, 2018, 2018, 2018, 2018, 2018, 2018, 2018, 2018, 2018, 2018, 2018, 2018, 2018, 2018, 2018, 2018, 2018, 2018, 2018, 2018, 2018, 2018, 2018, 2018, 2018, 2018, 2018, 2018, 2018, 2018, 2018, 2018, 2018, 2018, 2018, 2018, 2018, 2018, 2018, 2018, 2018, 2018, 2018, 2018, 2018, 2018, 2018, 2018, 2018, 2018, 2018, 2018, 2018, 2018, 2018, 2018, 2018, 2018, 2018, 2018, 2018, 2018, 2018, 2018, 2018, 2018, 2018, 2018, 2018, 2018, 2018, 2018, 2018, 2018, 2018, 2018, 2018, 2018, 2018, 2018, 2018, 2018), 'weekday': (3, 3, 3, 3, 3, 3, 3, 3, 3, 3, 3, 3, 3, 3, 3, 3, 3, 3, 3, 3, 3, 3, 3, 3, 3, 3, 3, 3, 3, 3, 3, 3, 3, 3, 3, 3, 3, 3, 3, 3, 3, 3, 3, 3, 3, 3, 3, 3, 3, 3, 3, 3, 3, 3, 3, 3, 3, 3, 3, 3, 3, 3, 3, 3, 3, 3, 3, 3, 3, 3, 3, 3, 3, 3, 3, 3, 3, 3, 3, 3, 3, 3, 3, 3, 3, 3, 3, 3, 3, 3, 3, 3, 3, 3, 3, 3, 3, 3, 3, 3, 3, 3, 3, 3, 3, 3, 3, 3, 3, 3, 3, 3, 3, 3, 3, 3, 3, 3, 3, 3, 3, 3, 3, 3, 3, 3, 3, 3, 3, 3, 3, 3, 3, 3, 3, 3, 3, 3, 3, 3, 3, 3, 3, 3, 3, 3, 3, 3, 3, 3, 3, 3, 3, 3, 3, 3, 3, 3, 3, 3, 3, 3, 3, 3, 3, 3, 3, 3, 3, 3, 3, 3, 3, 3, 3, 3, 3, 3, 3, 3, 3, 3, 3, 3, 3, 3, 3, 3, 3, 3, 3, 3, 3, 3, 3, 3, 3, 3, 3, 3, 3, 3, 3, 3, 3, 3, 3, 3, 3, 3, 3, 3, 3, 3, 3, 3, 3, 3, 3, 3, 3, 3, 3, 3, 3, 3, 3, 3, 3, 3, 3, 3, 3, 3, 3, 3, 3, 3, 3, 3, 3, 3, 3, 3, 3, 3, 3, 3, 3, 3, 3, 3, 3, 3, 3, 3, 3, 3, 3, 3, 3, 3, 3, 3, 3, 3, 3, 3, 3, 3, 3, 3, 3, 3, 3, 3, 3, 3, 3, 3, 3, 3, 3, 3, 3, 3, 3, 3, 3, 3, 3, 3, 3, 3, 3, 3, 3, 3, 3, 3, 3, 3, 3, 3, 3, 3, 3, 3, 3, 3, 3, 3, 3, 3, 3, 3, 3, 3, 3)}\n"
     ]
    }
   ],
   "source": [
    "#initialize 2d list that will hold the values of the time metadata\n",
    "time_data = [[0 for i in range(7)] for j in range(len(t))]\n",
    "#for every ts in t create a list to hold metadata\n",
    "x=0\n",
    "for i in t:\n",
    "            ts = pd.Series(pd.Timestamp(i, unit='ms'))\n",
    "            time_data[x][0] = ts.dt.values[0]\n",
    "            time_data[x][1] = ts.dt.hour.values[0]\n",
    "            time_data[x][2] = ts.dt.day.values[0]\n",
    "            time_data[x][3] = ts.dt.week.values[0]\n",
    "            time_data[x][4] = ts.dt.month.values[0]\n",
    "            time_data[x][5] = ts.dt.year.values[0]\n",
    "            time_data[x][6] = ts.dt.weekday.values[0]\n",
    "            x=x+1\n",
    "column_labels = ['timestamp', 'hour', \"day\", 'week', 'month', 'year', 'weekday']\n",
    "\n",
    "#zip time_data into a dictionary\n",
    "time_data = dict(zip(column_labels, zip(*time_data)))\n",
    "print(time_data)\n"
   ]
  },
  {
   "cell_type": "code",
   "execution_count": 17,
   "metadata": {
    "editable": true
   },
   "outputs": [
    {
     "data": {
      "text/html": [
       "<div>\n",
       "<style scoped>\n",
       "    .dataframe tbody tr th:only-of-type {\n",
       "        vertical-align: middle;\n",
       "    }\n",
       "\n",
       "    .dataframe tbody tr th {\n",
       "        vertical-align: top;\n",
       "    }\n",
       "\n",
       "    .dataframe thead th {\n",
       "        text-align: right;\n",
       "    }\n",
       "</style>\n",
       "<table border=\"1\" class=\"dataframe\">\n",
       "  <thead>\n",
       "    <tr style=\"text-align: right;\">\n",
       "      <th></th>\n",
       "      <th>timestamp</th>\n",
       "      <th>hour</th>\n",
       "      <th>day</th>\n",
       "      <th>week</th>\n",
       "      <th>month</th>\n",
       "      <th>year</th>\n",
       "      <th>weekday</th>\n",
       "    </tr>\n",
       "  </thead>\n",
       "  <tbody>\n",
       "    <tr>\n",
       "      <th>0</th>\n",
       "      <td>2018-11-29 00:00:57.796</td>\n",
       "      <td>0</td>\n",
       "      <td>29</td>\n",
       "      <td>48</td>\n",
       "      <td>11</td>\n",
       "      <td>2018</td>\n",
       "      <td>3</td>\n",
       "    </tr>\n",
       "    <tr>\n",
       "      <th>1</th>\n",
       "      <td>2018-11-29 00:01:30.796</td>\n",
       "      <td>0</td>\n",
       "      <td>29</td>\n",
       "      <td>48</td>\n",
       "      <td>11</td>\n",
       "      <td>2018</td>\n",
       "      <td>3</td>\n",
       "    </tr>\n",
       "    <tr>\n",
       "      <th>2</th>\n",
       "      <td>2018-11-29 00:04:01.796</td>\n",
       "      <td>0</td>\n",
       "      <td>29</td>\n",
       "      <td>48</td>\n",
       "      <td>11</td>\n",
       "      <td>2018</td>\n",
       "      <td>3</td>\n",
       "    </tr>\n",
       "    <tr>\n",
       "      <th>3</th>\n",
       "      <td>2018-11-29 00:04:55.796</td>\n",
       "      <td>0</td>\n",
       "      <td>29</td>\n",
       "      <td>48</td>\n",
       "      <td>11</td>\n",
       "      <td>2018</td>\n",
       "      <td>3</td>\n",
       "    </tr>\n",
       "    <tr>\n",
       "      <th>4</th>\n",
       "      <td>2018-11-29 00:07:13.796</td>\n",
       "      <td>0</td>\n",
       "      <td>29</td>\n",
       "      <td>48</td>\n",
       "      <td>11</td>\n",
       "      <td>2018</td>\n",
       "      <td>3</td>\n",
       "    </tr>\n",
       "  </tbody>\n",
       "</table>\n",
       "</div>"
      ],
      "text/plain": [
       "                timestamp  hour  day  week  month  year  weekday\n",
       "0 2018-11-29 00:00:57.796     0   29    48     11  2018        3\n",
       "1 2018-11-29 00:01:30.796     0   29    48     11  2018        3\n",
       "2 2018-11-29 00:04:01.796     0   29    48     11  2018        3\n",
       "3 2018-11-29 00:04:55.796     0   29    48     11  2018        3\n",
       "4 2018-11-29 00:07:13.796     0   29    48     11  2018        3"
      ]
     },
     "execution_count": 17,
     "metadata": {},
     "output_type": "execute_result"
    }
   ],
   "source": [
    "time_df = pd.DataFrame.from_dict(time_data)\n",
    "time_df.head()"
   ]
  },
  {
   "cell_type": "markdown",
   "metadata": {
    "editable": true
   },
   "source": [
    "#### Insert Records into Time Table\n",
    "Implement the `time_table_insert` query in `sql_queries.py` and run the cell below to insert records for the timestamps in this log file into the `time` table. Remember to run `create_tables.py` before running the cell below to ensure you've created/resetted the `time` table in the sparkify database."
   ]
  },
  {
   "cell_type": "code",
   "execution_count": 18,
   "metadata": {
    "editable": true
   },
   "outputs": [],
   "source": [
    "for i, row in time_df.iterrows():\n",
    "    cur.execute(time_table_insert, list(row))\n",
    "    conn.commit()"
   ]
  },
  {
   "cell_type": "markdown",
   "metadata": {
    "editable": true
   },
   "source": [
    "Run `test.ipynb` to see if you've successfully added records to this table."
   ]
  },
  {
   "cell_type": "markdown",
   "metadata": {
    "editable": true
   },
   "source": [
    "## #4: `users` Table\n",
    "#### Extract Data for Users Table\n",
    "- Select columns for user ID, first name, last name, gender and level and set to `user_df`"
   ]
  },
  {
   "cell_type": "code",
   "execution_count": 19,
   "metadata": {
    "editable": true
   },
   "outputs": [
    {
     "name": "stdout",
     "output_type": "stream",
     "text": [
      "    userId firstName  lastName gender level\n",
      "0       73     Jacob     Klein      M  paid\n",
      "1       24     Layla   Griffin      F  paid\n",
      "2       24     Layla   Griffin      F  paid\n",
      "3       73     Jacob     Klein      M  paid\n",
      "4       24     Layla   Griffin      F  paid\n",
      "5       24     Layla   Griffin      F  paid\n",
      "6       73     Jacob     Klein      M  paid\n",
      "7       73     Jacob     Klein      M  paid\n",
      "8       24     Layla   Griffin      F  paid\n",
      "9       24     Layla   Griffin      F  paid\n",
      "10      24     Layla   Griffin      F  paid\n",
      "11      24     Layla   Griffin      F  paid\n",
      "12      24     Layla   Griffin      F  paid\n",
      "13      24     Layla   Griffin      F  paid\n",
      "14      24     Layla   Griffin      F  paid\n",
      "15      24     Layla   Griffin      F  paid\n",
      "16      24     Layla   Griffin      F  paid\n",
      "17      24     Layla   Griffin      F  paid\n",
      "18      24     Layla   Griffin      F  paid\n",
      "19      24     Layla   Griffin      F  paid\n",
      "20      24     Layla   Griffin      F  paid\n",
      "21      50       Ava  Robinson      F  free\n",
      "22      24     Layla   Griffin      F  paid\n",
      "23      24     Layla   Griffin      F  paid\n",
      "24      24     Layla   Griffin      F  paid\n",
      "25      24     Layla   Griffin      F  paid\n",
      "26      24     Layla   Griffin      F  paid\n",
      "27      24     Layla   Griffin      F  paid\n",
      "28      24     Layla   Griffin      F  paid\n",
      "29      24     Layla   Griffin      F  paid\n",
      "..     ...       ...       ...    ...   ...\n",
      "333     80     Tegan    Levine      F  paid\n",
      "334     49     Chloe    Cuevas      F  paid\n",
      "336     80     Tegan    Levine      F  paid\n",
      "337      9     Wyatt     Scott      M  free\n",
      "338     80     Tegan    Levine      F  paid\n",
      "339     80     Tegan    Levine      F  paid\n",
      "340     80     Tegan    Levine      F  paid\n",
      "341     80     Tegan    Levine      F  paid\n",
      "342     80     Tegan    Levine      F  paid\n",
      "343     80     Tegan    Levine      F  paid\n",
      "344     80     Tegan    Levine      F  paid\n",
      "345     80     Tegan    Levine      F  paid\n",
      "346     22      Sean    Wilson      F  free\n",
      "347     80     Tegan    Levine      F  paid\n",
      "348     22      Sean    Wilson      F  free\n",
      "349     80     Tegan    Levine      F  paid\n",
      "350     80     Tegan    Levine      F  paid\n",
      "352     80     Tegan    Levine      F  paid\n",
      "353     80     Tegan    Levine      F  paid\n",
      "354     80     Tegan    Levine      F  paid\n",
      "355     80     Tegan    Levine      F  paid\n",
      "356     80     Tegan    Levine      F  paid\n",
      "357     80     Tegan    Levine      F  paid\n",
      "358     80     Tegan    Levine      F  paid\n",
      "359     74    Braden    Parker      M  free\n",
      "360     80     Tegan    Levine      F  paid\n",
      "362     80     Tegan    Levine      F  paid\n",
      "363     80     Tegan    Levine      F  paid\n",
      "364     80     Tegan    Levine      F  paid\n",
      "365     89   Kynnedi   Sanchez      F  free\n",
      "\n",
      "[319 rows x 5 columns]\n"
     ]
    }
   ],
   "source": [
    "user_df = df[['userId', 'firstName','lastName', 'gender', 'level']]\n",
    "print(user_df)"
   ]
  },
  {
   "cell_type": "markdown",
   "metadata": {
    "editable": true
   },
   "source": [
    "#### Insert Records into Users Table\n",
    "Implement the `user_table_insert` query in `sql_queries.py` and run the cell below to insert records for the users in this log file into the `users` table. Remember to run `create_tables.py` before running the cell below to ensure you've created/resetted the `users` table in the sparkify database."
   ]
  },
  {
   "cell_type": "code",
   "execution_count": 20,
   "metadata": {
    "editable": true
   },
   "outputs": [],
   "source": [
    "for i, row in user_df.iterrows():\n",
    "    cur.execute(user_table_insert, row)\n",
    "    conn.commit()"
   ]
  },
  {
   "cell_type": "markdown",
   "metadata": {
    "editable": true
   },
   "source": [
    "Run `test.ipynb` to see if you've successfully added records to this table."
   ]
  },
  {
   "cell_type": "markdown",
   "metadata": {
    "editable": true
   },
   "source": [
    "## #5: `songplays` Table\n",
    "#### Extract Data and Songplays Table\n",
    "This one is a little more complicated since information from the songs table, artists table, and original log file are all needed for the `songplays` table. Since the log file does not specify an ID for either the song or the artist, you'll need to get the song ID and artist ID by querying the songs and artists tables to find matches based on song title, artist name, and song duration time.\n",
    "- Implement the `song_select` query in `sql_queries.py` to find the song ID and artist ID based on the title, artist name, and duration of a song.\n",
    "- Select the timestamp, user ID, level, song ID, artist ID, session ID, location, and user agent and set to `songplay_data`\n",
    "\n",
    "#### Insert Records into Songplays Table\n",
    "- Implement the `songplay_table_insert` query and run the cell below to insert records for the songplay actions in this log file into the `songplays` table. Remember to run `create_tables.py` before running the cell below to ensure you've created/resetted the `songplays` table in the sparkify database."
   ]
  },
  {
   "cell_type": "code",
   "execution_count": 21,
   "metadata": {
    "editable": true
   },
   "outputs": [
    {
     "name": "stdout",
     "output_type": "stream",
     "text": [
      "[0, Timestamp('2018-11-29 00:00:57.796000'), '73', 'paid', None, None, 954, 'Tampa-St. Petersburg-Clearwater, FL', '\"Mozilla/5.0 (Macintosh; Intel Mac OS X 10_9_4) AppleWebKit/537.78.2 (KHTML, like Gecko) Version/7.0.6 Safari/537.78.2\"']\n"
     ]
    },
    {
     "ename": "IntegrityError",
     "evalue": "null value in column \"song_id\" violates not-null constraint\nDETAIL:  Failing row contains (0, 2018-11-29 00:00:57.796, 73, paid, null, null, 954, Tampa-St. Petersburg-Clearwater, FL, \"Mozilla/5.0 (Macintosh; Intel Mac OS X 10_9_4) AppleWebKit/537....).\n",
     "output_type": "error",
     "traceback": [
      "\u001b[0;31m---------------------------------------------------------------------------\u001b[0m",
      "\u001b[0;31mIntegrityError\u001b[0m                            Traceback (most recent call last)",
      "\u001b[0;32m<ipython-input-21-1cb275fc2451>\u001b[0m in \u001b[0;36m<module>\u001b[0;34m()\u001b[0m\n\u001b[1;32m     17\u001b[0m     \u001b[0msongplay_data\u001b[0m \u001b[0;34m=\u001b[0m  \u001b[0mdf\u001b[0m\u001b[0;34m[\u001b[0m\u001b[0;34m[\u001b[0m\u001b[0;34m'songplay_id'\u001b[0m\u001b[0;34m,\u001b[0m \u001b[0;34m'ts'\u001b[0m\u001b[0;34m,\u001b[0m \u001b[0;34m'userId'\u001b[0m\u001b[0;34m,\u001b[0m \u001b[0;34m'level'\u001b[0m\u001b[0;34m,\u001b[0m \u001b[0;34m'songid'\u001b[0m\u001b[0;34m,\u001b[0m \u001b[0;34m'artistid'\u001b[0m\u001b[0;34m,\u001b[0m \u001b[0;34m'sessionId'\u001b[0m\u001b[0;34m,\u001b[0m \u001b[0;34m'location'\u001b[0m\u001b[0;34m,\u001b[0m \u001b[0;34m'userAgent'\u001b[0m\u001b[0;34m]\u001b[0m\u001b[0;34m]\u001b[0m\u001b[0;34m.\u001b[0m\u001b[0mvalues\u001b[0m\u001b[0;34m[\u001b[0m\u001b[0mx\u001b[0m\u001b[0;34m]\u001b[0m\u001b[0;34m.\u001b[0m\u001b[0mtolist\u001b[0m\u001b[0;34m(\u001b[0m\u001b[0;34m)\u001b[0m\u001b[0;34m\u001b[0m\u001b[0m\n\u001b[1;32m     18\u001b[0m     \u001b[0mprint\u001b[0m\u001b[0;34m(\u001b[0m\u001b[0msongplay_data\u001b[0m\u001b[0;34m)\u001b[0m\u001b[0;34m\u001b[0m\u001b[0m\n\u001b[0;32m---> 19\u001b[0;31m     \u001b[0mcur\u001b[0m\u001b[0;34m.\u001b[0m\u001b[0mexecute\u001b[0m\u001b[0;34m(\u001b[0m\u001b[0msongplay_table_insert\u001b[0m\u001b[0;34m,\u001b[0m \u001b[0msongplay_data\u001b[0m\u001b[0;34m)\u001b[0m\u001b[0;34m\u001b[0m\u001b[0m\n\u001b[0m\u001b[1;32m     20\u001b[0m     \u001b[0mconn\u001b[0m\u001b[0;34m.\u001b[0m\u001b[0mcommit\u001b[0m\u001b[0;34m(\u001b[0m\u001b[0;34m)\u001b[0m\u001b[0;34m\u001b[0m\u001b[0m\n\u001b[1;32m     21\u001b[0m     \u001b[0mx\u001b[0m\u001b[0;34m=\u001b[0m\u001b[0mx\u001b[0m\u001b[0;34m+\u001b[0m\u001b[0;36m1\u001b[0m\u001b[0;34m\u001b[0m\u001b[0m\n",
      "\u001b[0;31mIntegrityError\u001b[0m: null value in column \"song_id\" violates not-null constraint\nDETAIL:  Failing row contains (0, 2018-11-29 00:00:57.796, 73, paid, null, null, 954, Tampa-St. Petersburg-Clearwater, FL, \"Mozilla/5.0 (Macintosh; Intel Mac OS X 10_9_4) AppleWebKit/537....).\n"
     ]
    }
   ],
   "source": [
    "x=0\n",
    "for index, row in df.iterrows():\n",
    "\n",
    "    # get songid and artistid from song and artist tables\n",
    "    cur.execute(song_select, (row.song, row.artist, row.length))\n",
    "    results = cur.fetchone()\n",
    "    \n",
    "    if results:\n",
    "        songid, artistid = results\n",
    "    else:\n",
    "        songid, artistid = None, None\n",
    "\n",
    "    # insert songplay record\n",
    "    df['artistid'] = artistid\n",
    "    df['songid'] = songid\n",
    "    df['songplay_id'] = index\n",
    "    songplay_data =  df[['songplay_id', 'ts', 'userId', 'level', 'songid', 'artistid', 'sessionId', 'location', 'userAgent']].values[x].tolist()\n",
    "    print(songplay_data)\n",
    "    cur.execute(songplay_table_insert, songplay_data)\n",
    "    conn.commit()\n",
    "    x=x+1"
   ]
  },
  {
   "cell_type": "code",
   "execution_count": null,
   "metadata": {
    "editable": true
   },
   "outputs": [],
   "source": [
    "#Run `test.ipynb` to see if you've successfully added records to this table."
   ]
  },
  {
   "cell_type": "markdown",
   "metadata": {
    "editable": true
   },
   "source": [
    "# Close Connection to Sparkify Database"
   ]
  },
  {
   "cell_type": "code",
   "execution_count": null,
   "metadata": {
    "editable": true
   },
   "outputs": [],
   "source": [
    "conn.close()"
   ]
  },
  {
   "cell_type": "markdown",
   "metadata": {
    "editable": true
   },
   "source": [
    "# Implement `etl.py`\n",
    "Use what you've completed in this notebook to implement `etl.py`."
   ]
  },
  {
   "cell_type": "code",
   "execution_count": null,
   "metadata": {
    "editable": true
   },
   "outputs": [],
   "source": []
  },
  {
   "cell_type": "code",
   "execution_count": null,
   "metadata": {
    "editable": true
   },
   "outputs": [],
   "source": []
  }
 ],
 "metadata": {
  "kernelspec": {
   "display_name": "Python 3",
   "language": "python",
   "name": "python3"
  },
  "language_info": {
   "codemirror_mode": {
    "name": "ipython",
    "version": 3
   },
   "file_extension": ".py",
   "mimetype": "text/x-python",
   "name": "python",
   "nbconvert_exporter": "python",
   "pygments_lexer": "ipython3",
   "version": "3.6.3"
  }
 },
 "nbformat": 4,
 "nbformat_minor": 4
}
